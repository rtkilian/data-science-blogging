{
  "nbformat": 4,
  "nbformat_minor": 0,
  "metadata": {
    "colab": {
      "name": "hashlib_pandas.ipynb",
      "provenance": [],
      "authorship_tag": "ABX9TyNxnkS42dGiowFNJMMVyOmM",
      "include_colab_link": true
    },
    "kernelspec": {
      "name": "python3",
      "display_name": "Python 3"
    },
    "language_info": {
      "name": "python"
    }
  },
  "cells": [
    {
      "cell_type": "markdown",
      "metadata": {
        "id": "view-in-github",
        "colab_type": "text"
      },
      "source": [
        "<a href=\"https://colab.research.google.com/github/rtkilian/data-science-blogging/blob/main/hashlib_pandas.ipynb\" target=\"_parent\"><img src=\"https://colab.research.google.com/assets/colab-badge.svg\" alt=\"Open In Colab\"/></a>"
      ]
    },
    {
      "cell_type": "markdown",
      "metadata": {
        "id": "uTSDPtMePKAw"
      },
      "source": [
        "# Anonymise sensitive data in a pandas DataFrame column with hashlib"
      ]
    },
    {
      "cell_type": "markdown",
      "metadata": {
        "id": "KJi7rxKAPOt1"
      },
      "source": [
        "A common scenario that Data Scientists come across is sharing data with others. But what should you do if that data contains personally identifiable information (PII) such as email addresses, customer IDs or phone numbers?\n",
        "A simple solution is to remove these fields before sharing the data. However, your analysis may rely on having the PII data. For example, customer IDs in an e-commerce transactional dataset to know which customer bought which product. \n",
        "Instead, you can anonymise the PII fields in your data using hashing."
      ]
    },
    {
      "cell_type": "markdown",
      "metadata": {
        "id": "5ZcFCQC0PTqj"
      },
      "source": [
        "## What is hashing?\n",
        "Hashing is a one-way process of transforming a string of plaintext characters into a unique string of fixed length. The hashing process has two important characteristics:\n",
        "1. It is very difficult to convert a hashed string into its original form\n",
        "2. The same plaintext string will produce the same hashed output\n",
        "\n",
        "For these reasons, developers will store your hashed password in the website's database."
      ]
    },
    {
      "cell_type": "markdown",
      "metadata": {
        "id": "23mgwIsUPd60"
      },
      "source": [
        "## A simple example using hashlib\n",
        "[haslib](https://docs.python.org/3/library/hashlib.html) is a built-in module in Python that contains many popular hash algorithms. In our tutorial, we're going to be using SHA-256 which is part of the SHA-2 (Secure Hash Algorithm 2) family of algorithms.\n",
        "\n",
        "Before we can convert our string, say an email address, to a hashed value, we must first convert it into bytes using UTF-8 encoding:"
      ]
    },
    {
      "cell_type": "code",
      "metadata": {
        "id": "GPjcluCrPWE-"
      },
      "source": [
        "import hashlib\n",
        "\n",
        "# Encode our string using UTF-8 default \n",
        "stringToHash = 'example@email.com'.encode()"
      ],
      "execution_count": 2,
      "outputs": []
    },
    {
      "cell_type": "markdown",
      "metadata": {
        "id": "Rk2-Isz4P42d"
      },
      "source": [
        "We can now hash it using SHA-256:"
      ]
    },
    {
      "cell_type": "code",
      "metadata": {
        "colab": {
          "base_uri": "https://localhost:8080/"
        },
        "id": "178oKlI2Pt9r",
        "outputId": "39ab3fc8-d5cc-4722-c1c2-bcae95ba5eab"
      },
      "source": [
        "# Hash using SHA-256 and print\n",
        "print('Email (SHA-256): ', hashlib.sha256(stringToHash).hexdigest())"
      ],
      "execution_count": 3,
      "outputs": [
        {
          "output_type": "stream",
          "text": [
            "Email (SHA-256):  36e96648c5410d00a7da7206c01237139f950bed21d8c729aae019dbe07964e7\n"
          ],
          "name": "stdout"
        }
      ]
    },
    {
      "cell_type": "markdown",
      "metadata": {
        "id": "Xz38fkSrQWU5"
      },
      "source": [
        "That's it! Our fake email address has been successfully hashed."
      ]
    },
    {
      "cell_type": "markdown",
      "metadata": {
        "id": "Ks6xsLEISh7D"
      },
      "source": [
        "## A complete example using pandas and hashlib\n",
        "Now that we can apply hashlib to a single string, it's fairly straightforward to scale this example to a pandas DataFrame. We're going to use credit card customer data, available on [Kaggle](https://www.kaggle.com/sakshigoyal7/credit-card-customers), which was originally made available by [Analyttica TreasureHunt LEAPS](https://leaps.analyttica.com/)."
      ]
    },
    {
      "cell_type": "markdown",
      "metadata": {
        "id": "e4XlGj-cUI7B"
      },
      "source": [
        "**Scenario:** you need to share a list of credit card customers. You want to retain the field 'CLIENTNUM' as a customer can have multiple credit cards and you want to be able to uniquely identify them."
      ]
    },
    {
      "cell_type": "code",
      "metadata": {
        "colab": {
          "base_uri": "https://localhost:8080/",
          "height": 204
        },
        "id": "mF8_-bHCVo4v",
        "outputId": "f1f11457-1333-4aa6-f86b-271d89e20745"
      },
      "source": [
        "import pandas as pd\n",
        "\n",
        "df = pd.read_csv('data/BankChurners.csv', usecols=['CLIENTNUM', 'Customer_Age', 'Gender', 'Attrition_Flag', 'Total_Trans_Amt'])\n",
        "df.head()"
      ],
      "execution_count": 11,
      "outputs": [
        {
          "output_type": "execute_result",
          "data": {
            "text/html": [
              "<div>\n",
              "<style scoped>\n",
              "    .dataframe tbody tr th:only-of-type {\n",
              "        vertical-align: middle;\n",
              "    }\n",
              "\n",
              "    .dataframe tbody tr th {\n",
              "        vertical-align: top;\n",
              "    }\n",
              "\n",
              "    .dataframe thead th {\n",
              "        text-align: right;\n",
              "    }\n",
              "</style>\n",
              "<table border=\"1\" class=\"dataframe\">\n",
              "  <thead>\n",
              "    <tr style=\"text-align: right;\">\n",
              "      <th></th>\n",
              "      <th>CLIENTNUM</th>\n",
              "      <th>Attrition_Flag</th>\n",
              "      <th>Customer_Age</th>\n",
              "      <th>Gender</th>\n",
              "      <th>Total_Trans_Amt</th>\n",
              "    </tr>\n",
              "  </thead>\n",
              "  <tbody>\n",
              "    <tr>\n",
              "      <th>0</th>\n",
              "      <td>768805383</td>\n",
              "      <td>Existing Customer</td>\n",
              "      <td>45</td>\n",
              "      <td>M</td>\n",
              "      <td>1144</td>\n",
              "    </tr>\n",
              "    <tr>\n",
              "      <th>1</th>\n",
              "      <td>818770008</td>\n",
              "      <td>Existing Customer</td>\n",
              "      <td>49</td>\n",
              "      <td>F</td>\n",
              "      <td>1291</td>\n",
              "    </tr>\n",
              "    <tr>\n",
              "      <th>2</th>\n",
              "      <td>713982108</td>\n",
              "      <td>Existing Customer</td>\n",
              "      <td>51</td>\n",
              "      <td>M</td>\n",
              "      <td>1887</td>\n",
              "    </tr>\n",
              "    <tr>\n",
              "      <th>3</th>\n",
              "      <td>769911858</td>\n",
              "      <td>Existing Customer</td>\n",
              "      <td>40</td>\n",
              "      <td>F</td>\n",
              "      <td>1171</td>\n",
              "    </tr>\n",
              "    <tr>\n",
              "      <th>4</th>\n",
              "      <td>709106358</td>\n",
              "      <td>Existing Customer</td>\n",
              "      <td>40</td>\n",
              "      <td>M</td>\n",
              "      <td>816</td>\n",
              "    </tr>\n",
              "  </tbody>\n",
              "</table>\n",
              "</div>"
            ],
            "text/plain": [
              "   CLIENTNUM     Attrition_Flag  Customer_Age Gender  Total_Trans_Amt\n",
              "0  768805383  Existing Customer            45      M             1144\n",
              "1  818770008  Existing Customer            49      F             1291\n",
              "2  713982108  Existing Customer            51      M             1887\n",
              "3  769911858  Existing Customer            40      F             1171\n",
              "4  709106358  Existing Customer            40      M              816"
            ]
          },
          "metadata": {},
          "execution_count": 11
        }
      ]
    },
    {
      "cell_type": "code",
      "metadata": {
        "id": "Ov0-Eh-lWFE6"
      },
      "source": [
        ""
      ],
      "execution_count": null,
      "outputs": []
    }
  ]
}