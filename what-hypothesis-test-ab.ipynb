{
 "cells": [
  {
   "cell_type": "markdown",
   "id": "d887f586-b47e-400e-9a34-140b43602b82",
   "metadata": {},
   "source": [
    "# What Hypothesis Test Should I Use for My A/B Experiment? (Quick-Reference)"
   ]
  },
  {
   "cell_type": "markdown",
   "id": "d69e9140-c25a-40d2-8eb7-12e91f527bc9",
   "metadata": {},
   "source": [
    "The choice of hypothesis test after running an A/B test can be overwhelming for any data practicioner. The popular Python libraries, [scipy](https://docs.scipy.org/doc/scipy/reference/stats.html#statistical-tests) and [statsmodels](https://docs.scipy.org/doc/scipy/reference/stats.html#statistical-tests), have implemented hundreds of hypothesis tests for all types of use cases. \n",
    "\n",
    "This article is written to be your quick reference guide to the most common types of hypothesis tests you'll need to analyse your A/B(/C) experiments. I use these tests regularly in my role as a Data Scientist at [Movember](http://movember.com/). \n",
    "\n",
    "We will cover parametric and non-parametric tests for continuous and categorical variables in two or more samples. Each test will include a brief description, the assumptions, how the hypotheses are formulated and sample Python code. You are encouraged to read the documentation when you are implementing the test as each method has several different input parameters. \n",
    "\n",
    "If you are looking for information about [why you should run A/B experiments](https://medium.com/@rtkilian/how-a-b-testing-helps-microsoft-and-why-you-should-consider-it-too-c975f2922ffe) and [how you should set up an A/B test](https://medium.com/towards-data-science/a-quick-reference-checklist-for-a-b-testing-40f533cfb523), check out my other articles. Otherwise, if you are after an in-depth explanation of the tests, read [here](https://towardsdatascience.com/a-b-testing-a-complete-guide-to-statistical-testing-e3f1db140499), [here](https://towardsdatascience.com/the-ultimate-guide-to-a-b-testing-part-3-parametric-tests-2c629e8d98f8) and [here](https://towardsdatascience.com/the-ultimate-guide-to-a-b-testing-part-4-non-parametric-tests-4db7b4b6a974)."
   ]
  },
  {
   "cell_type": "markdown",
   "id": "a3914486-2d9c-4333-b711-314a2ef2eeda",
   "metadata": {},
   "source": [
    "## Preparation"
   ]
  },
  {
   "cell_type": "code",
   "execution_count": 1,
   "id": "0d9f94a5-5935-403a-bbe6-53865b77dddd",
   "metadata": {
    "scrolled": true,
    "tags": []
   },
   "outputs": [
    {
     "name": "stdout",
     "output_type": "stream",
     "text": [
      "Collecting package metadata (current_repodata.json): done\n",
      "Solving environment: done\n",
      "\n",
      "\n",
      "==> WARNING: A newer version of conda exists. <==\n",
      "  current version: 4.10.3\n",
      "  latest version: 4.12.0\n",
      "\n",
      "Please update conda by running\n",
      "\n",
      "    $ conda update -n base conda\n",
      "\n",
      "\n",
      "\n",
      "# All requested packages already installed.\n",
      "\n",
      "\n",
      "Note: you may need to restart the kernel to use updated packages.\n",
      "Collecting package metadata (current_repodata.json): done\n",
      "Solving environment: done\n",
      "\n",
      "\n",
      "==> WARNING: A newer version of conda exists. <==\n",
      "  current version: 4.10.3\n",
      "  latest version: 4.12.0\n",
      "\n",
      "Please update conda by running\n",
      "\n",
      "    $ conda update -n base conda\n",
      "\n",
      "\n",
      "\n",
      "# All requested packages already installed.\n",
      "\n",
      "\n",
      "Note: you may need to restart the kernel to use updated packages.\n",
      "Collecting package metadata (current_repodata.json): done\n",
      "Solving environment: done\n",
      "\n",
      "\n",
      "==> WARNING: A newer version of conda exists. <==\n",
      "  current version: 4.10.3\n",
      "  latest version: 4.12.0\n",
      "\n",
      "Please update conda by running\n",
      "\n",
      "    $ conda update -n base conda\n",
      "\n",
      "\n",
      "\n",
      "# All requested packages already installed.\n",
      "\n",
      "\n",
      "Note: you may need to restart the kernel to use updated packages.\n",
      "Collecting package metadata (current_repodata.json): done\n",
      "Solving environment: done\n",
      "\n",
      "\n",
      "==> WARNING: A newer version of conda exists. <==\n",
      "  current version: 4.10.3\n",
      "  latest version: 4.12.0\n",
      "\n",
      "Please update conda by running\n",
      "\n",
      "    $ conda update -n base conda\n",
      "\n",
      "\n",
      "\n",
      "# All requested packages already installed.\n",
      "\n",
      "\n",
      "Note: you may need to restart the kernel to use updated packages.\n"
     ]
    }
   ],
   "source": [
    "%conda install pandas\n",
    "%conda install numpy\n",
    "%conda install scipy\n",
    "%conda install -c conda-forge statsmodels"
   ]
  },
  {
   "cell_type": "code",
   "execution_count": 2,
   "id": "31c09b63-d349-4331-900a-b77f51c59e51",
   "metadata": {},
   "outputs": [],
   "source": [
    "import pandas as pd\n",
    "\n",
    "import numpy as np\n",
    "from numpy.random import default_rng\n",
    "rng = default_rng(42)"
   ]
  },
  {
   "cell_type": "markdown",
   "id": "5ee1c2ac-bbe2-45f1-bf7d-22f677b4ce11",
   "metadata": {},
   "source": [
    "## Hypothesis Tests"
   ]
  },
  {
   "cell_type": "markdown",
   "id": "f639cd02-c344-4c65-a432-9752c437ad8b",
   "metadata": {},
   "source": [
    "### Student's t-test\n",
    "The t-test is a parametric test used to determine whether there is a significant difference between the means of two continuous samples. \n",
    "\n",
    "**Assumptions**\n",
    "* Observations in each sample are independent\n",
    "* Observations in each sample are approximately normally distributed\n",
    "* Observations in each sample have the same variance\n",
    "\n",
    "**Hypotheses**\n",
    "* H0: the means of the two samples are equal\n",
    "* H1: the means of the two samples are not equal\n",
    "\n",
    "**Resources**\n",
    "* [Student's t-test, Wikipedia](https://en.wikipedia.org/wiki/Student%27s_t-test)\n",
    "* [scipy.stats.ttest_ind](https://docs.scipy.org/doc/scipy/reference/generated/scipy.stats.ttest_ind.html)\n",
    "* [Welch's t-test for samples with unequal variance, Wikipedia](https://en.wikipedia.org/wiki/Welch%27s_t-test)"
   ]
  },
  {
   "cell_type": "code",
   "execution_count": 3,
   "id": "a365adfc-2983-40e5-844f-838e7225b85f",
   "metadata": {},
   "outputs": [
    {
     "name": "stdout",
     "output_type": "stream",
     "text": [
      "stat=1.683, p=0.094\n",
      "Do not reject the null hypothesis and conclude the means of the samples are the same.\n"
     ]
    }
   ],
   "source": [
    "from scipy.stats import ttest_ind\n",
    "\n",
    "# Randomly generate data\n",
    "x1 = rng.normal(loc=0.25, scale=1, size=100)\n",
    "x2 = rng.normal(loc=0.00, scale=1, size=100)\n",
    "\n",
    "# Calculate test statistic and p-value\n",
    "stat, p = ttest_ind(x1, x2)\n",
    "\n",
    "# Interpreation\n",
    "print('stat=%.3f, p=%.3f' % (stat, p))\n",
    "if p > 0.05:\n",
    "    print('Do not reject the null hypothesis and conclude the means of the samples are the same.')\n",
    "else:\n",
    "    print('Reject the null hypothesis and conclude the means of the samples are not the same.')"
   ]
  },
  {
   "cell_type": "markdown",
   "id": "730c81d3-ce2e-4e18-be0e-8f1e8a6fb533",
   "metadata": {},
   "source": [
    "### Mann-Whitney U test\n",
    "The Mann-Whitney U test is a non-parametric test to determine whether the distributions of two continuous samples are the same. The Mann-Whitney U test is the non-parametric version of the t-test for independent samples.\n",
    "\n",
    "**Assumptions**\n",
    "* Observations in each sample are independent\n",
    "* Observations in each sample are continuous or ordinal and can be ranked\n",
    "* The distribution of each sample is approximately the same shape\n",
    "\n",
    "**Hypotheses**\n",
    "* H0: the distributions of each sample are the same\n",
    "* H1: the distributions of each sample are not the same\n",
    "\n",
    "**Resources**\n",
    "* [Mann-Whitney U test, Wikipedia](https://en.wikipedia.org/wiki/Mann%E2%80%93Whitney_U_test)\n",
    "* [scipy.stats.mannwhitneyu](https://docs.scipy.org/doc/scipy/reference/generated/scipy.stats.mannwhitneyu.html)"
   ]
  },
  {
   "cell_type": "code",
   "execution_count": 4,
   "id": "a5907483-7ea1-46ae-a1e5-8d4c075d04b3",
   "metadata": {},
   "outputs": [
    {
     "name": "stdout",
     "output_type": "stream",
     "text": [
      "stat=4999.000, p=0.999\n",
      "Do not reject the null hypothesis and conclude the distributions of the samples are the same.\n"
     ]
    }
   ],
   "source": [
    "from scipy.stats import mannwhitneyu\n",
    "\n",
    "# Randomly generate the data\n",
    "x1 = rng.normal(loc=0.25, scale=1, size=100)\n",
    "x2 = rng.normal(loc=0.00, scale=1, size=100)\n",
    "\n",
    "# Calculate test statistic and p-value\n",
    "stat, p = mannwhitneyu(x1, x2)\n",
    "\n",
    "# Interpreatation\n",
    "print('stat=%.3f, p=%.3f' % (stat, p))\n",
    "if p > 0.05:\n",
    "    print('Do not reject the null hypothesis and conclude the distributions of the samples are the same.')\n",
    "else:\n",
    "    print('Reject the null hypothesis and conclude the distributions of the samples are not the same.')"
   ]
  },
  {
   "cell_type": "markdown",
   "id": "5ec03bd6-e0ed-4156-ab8c-2b712f94854f",
   "metadata": {},
   "source": [
    "### Paired Student's t-test\n",
    "The t-test is a parametric test used to determine whether there is a significant difference between the means of two paired continuous samples. \n",
    "\n",
    "**Assumptions**\n",
    "* Observations in each sample are independent\n",
    "* Observations in each sample are approximately normally distributed\n",
    "* Observations in each sample have the same variance\n",
    "* Observations across each sample are paired\n",
    "\n",
    "**Hypotheses**\n",
    "* H0: the means of the two paired samples are equal\n",
    "* H1: the means of the two paired samples are not equal\n",
    "\n",
    "**Resources**\n",
    "* [Student's t-test for paired samples, Wikipedia](https://en.wikipedia.org/wiki/Student%27s_t-test#Dependent_t-test_for_paired_samples)\n",
    "* [scipy.stats.ttest_rel](https://docs.scipy.org/doc/scipy/reference/generated/scipy.stats.ttest_rel.html)"
   ]
  },
  {
   "cell_type": "code",
   "execution_count": 5,
   "id": "5a6a77f4-e638-4dbe-82e0-18010084f279",
   "metadata": {},
   "outputs": [
    {
     "name": "stdout",
     "output_type": "stream",
     "text": [
      "stat=-1.521, p=0.131\n",
      "Do not reject the null hypothesis and conclude the means of the paired samples are the same.\n"
     ]
    }
   ],
   "source": [
    "from scipy.stats import ttest_rel\n",
    "\n",
    "# Randomly generate the data\n",
    "x1 = rng.normal(loc=0.00, scale=1, size=100)\n",
    "x2 = x1 + rng.normal(loc=0.25, scale=1, size=100)\n",
    "\n",
    "# Calculate test statistic and p-value\n",
    "stat, p = ttest_rel(x1, x2)\n",
    "\n",
    "# Interpreation\n",
    "print('stat=%.3f, p=%.3f' % (stat, p))\n",
    "if p > 0.05:\n",
    "    print('Do not reject the null hypothesis and conclude the means of the paired samples are the same.')\n",
    "else:\n",
    "    print('Reject the null hypothesis and conclude the means of the paired samples are not the same.')"
   ]
  },
  {
   "cell_type": "markdown",
   "id": "ac23bc57-97f7-47bb-97f9-343c9eac4b8f",
   "metadata": {},
   "source": [
    "### Wilcoxon signed-rank test\n",
    "The Wilcoxon signed-rank test is a non-parametric test to determine whether the distributions of two paired continuous samples are the same. The Mann-Whitney U test is the non-parametric version of the paired t-test.\n",
    "\n",
    "**Assumptions**\n",
    "* Observations in each sample are independent\n",
    "* Observations in each sample can be ranked\n",
    "* Observations across each sample are paired\n",
    "\n",
    "**Hypotheses**\n",
    "* H0: the distributions of the paired samples are the same\n",
    "* H1: the distributions of the paired samples are not the same\n",
    "\n",
    "**Resources**\n",
    "* [Wilcoxon signed-rank test, Wikipedia](https://en.wikipedia.org/wiki/Wilcoxon_signed-rank_test)\n",
    "* [scipy.stats.wilcoxon](https://docs.scipy.org/doc/scipy/reference/generated/scipy.stats.wilcoxon.html)"
   ]
  },
  {
   "cell_type": "code",
   "execution_count": 6,
   "id": "09071425-87df-47c8-9029-ed49a1d988eb",
   "metadata": {},
   "outputs": [
    {
     "name": "stdout",
     "output_type": "stream",
     "text": [
      "stat=1688.000, p=0.004\n",
      "Reject the null hypothesis and conclude the distributions of the paired samples are not the same.\n"
     ]
    }
   ],
   "source": [
    "# Example of the Paired Student's t-test\n",
    "from scipy.stats import wilcoxon\n",
    "\n",
    "# Randomly generate the data\n",
    "x1 = rng.normal(loc=0.00, scale=1, size=100)\n",
    "x2 = x1 + rng.normal(loc=0.25, scale=1, size=100)\n",
    "\n",
    "# Calculate test statistic and p-value\n",
    "stat, p = wilcoxon(x1, x2)\n",
    "\n",
    "# Interpreation\n",
    "print('stat=%.3f, p=%.3f' % (stat, p))\n",
    "if p > 0.05:\n",
    "    print('Do not reject the null hypothesis and conclude the distributions of the paired samples are the same.')\n",
    "else:\n",
    "    print('Reject the null hypothesis and conclude the distributions of the paired samples are not the same.')"
   ]
  },
  {
   "cell_type": "markdown",
   "id": "c0147f3f-6e8f-480f-a65a-b3b76b1ccdc9",
   "metadata": {},
   "source": [
    "### Analysis of Variance Test (ANOVA)\n",
    "The one-way ANOVA test is a parametric test used to determine whether there is a significant difference between the means of two or more continuous samples. \n",
    "\n",
    "**Assumptions**\n",
    "* Observations in each sample are independent\n",
    "* Observations in each sample are approximately normally distributed\n",
    "* Observations in each sample have the same variance\n",
    "\n",
    "**Hypotheses**\n",
    "* H0: the means of the two or more samples are equal\n",
    "* H1: one or more of the means of the samples are not equal\n",
    "\n",
    "**Resources**\n",
    "* [Analysis of variance (ANOVA), Wikipedia](https://en.wikipedia.org/wiki/Analysis_of_variance)\n",
    "* [scipy.stats.f_oneway](https://docs.scipy.org/doc/scipy/reference/generated/scipy.stats.f_oneway.html)"
   ]
  },
  {
   "cell_type": "code",
   "execution_count": 7,
   "id": "fecb6ccb-be14-4a33-ba65-3bb8b01e3b8c",
   "metadata": {},
   "outputs": [
    {
     "name": "stdout",
     "output_type": "stream",
     "text": [
      "stat=0.075, p=0.927\n",
      "Do not reject the null hypothesis and conclude the means of the samples are the same.\n"
     ]
    }
   ],
   "source": [
    "# Example of the Analysis of Variance Test\n",
    "from scipy.stats import f_oneway\n",
    "\n",
    "# Randomly generate the data\n",
    "x1 = rng.normal(loc=0.25, scale=1, size=100)\n",
    "x2 = rng.normal(loc=0.00, scale=1, size=100)\n",
    "x3 = rng.normal(loc=0.00, scale=1, size=100)\n",
    "\n",
    "# Calculate test statistic and p-value\n",
    "stat, p = f_oneway(x1, x2, x3)\n",
    "\n",
    "# Interpreation\n",
    "print('stat=%.3f, p=%.3f' % (stat, p))\n",
    "if p > 0.05:\n",
    "    print('Do not reject the null hypothesis and conclude the means of the samples are the same.')\n",
    "else:\n",
    "    print('Reject the null hypothesis and conclude that one or more of the means of the samples are not the same.')"
   ]
  },
  {
   "cell_type": "markdown",
   "id": "12263c46-5ac2-4bfb-bcd6-b83ac8ad442e",
   "metadata": {},
   "source": [
    "### Kruskal-Wallis H-test\n",
    "The Kruskal-Wallis H-test is a non-parametric test to determine whether there is a significant difference between the medians of two or more continuous samples. It is the non-parametric equivalent of the one-way ANOVA test.\n",
    "\n",
    "**Assumptions**\n",
    "* Observations in each sample are independent\n",
    "* Observations in each sample have the same variance\n",
    "\n",
    "**Hypotheses**\n",
    "* H0: the medians of the two or more samples are equal\n",
    "* H1: one or more of the medians of the samples are not equal\n",
    "\n",
    "**Resources**\n",
    "* [Kuskal-Wallis one-way analysis test of variance, Wikipedia](https://en.wikipedia.org/wiki/Kruskal%E2%80%93Wallis_one-way_analysis_of_variance)\n",
    "* [scipy.stats.kruskal](https://docs.scipy.org/doc/scipy/reference/generated/scipy.stats.kruskal.html)"
   ]
  },
  {
   "cell_type": "code",
   "execution_count": 8,
   "id": "72d84041-1132-470b-a06c-7955ac22d08a",
   "metadata": {},
   "outputs": [
    {
     "name": "stdout",
     "output_type": "stream",
     "text": [
      "stat=3.304, p=0.192\n",
      "Do not reject the null hypothesis and conclude the medians of the samples are the same.\n"
     ]
    }
   ],
   "source": [
    "from scipy.stats import kruskal\n",
    "\n",
    "# Randomly generate the data\n",
    "x1 = rng.normal(loc=0.25, scale=1, size=100)\n",
    "x2 = rng.normal(loc=0.00, scale=1, size=100)\n",
    "x3 = rng.normal(loc=0.00, scale=1, size=100)\n",
    "\n",
    "# Calculate test statistic and p-value\n",
    "stat, p = kruskal(x1, x2, x3)\n",
    "\n",
    "# Interpreation\n",
    "print('stat=%.3f, p=%.3f' % (stat, p))\n",
    "if p > 0.05:\n",
    "    print('Do not reject the null hypothesis and conclude the medians of the samples are the same.')\n",
    "else:\n",
    "    print('Reject the null hypothesis and conclude that one or more of the medians of the samples are not the same.')"
   ]
  },
  {
   "cell_type": "markdown",
   "id": "bdcb0012-cc0f-40f3-99b5-ba199ac56849",
   "metadata": {},
   "source": [
    "### Chi-squared Test\n",
    "The Chi-squared test is used to test the independence of two or more categorical variables in a contingency table.\n",
    "\n",
    "**Assumptions**\n",
    "* Observations in the sample are independent\n",
    "* The observed and expected frequencies in each cell in the contingency table are at least 5\n",
    "\n",
    "**Hypotheses**\n",
    "* H0: the variables are independent\n",
    "* H1: the variables are not independent\n",
    "\n",
    "**Resources**\n",
    "* [Chi-squared test, Wikipedia](https://en.wikipedia.org/wiki/Chi-squared_test)\n",
    "* [scipy.stats.chi2_contingency](https://docs.scipy.org/doc/scipy/reference/generated/scipy.stats.chi2_contingency.html)\n",
    "* [pandas.crosstab](https://pandas.pydata.org/docs/reference/api/pandas.crosstab.html)"
   ]
  },
  {
   "cell_type": "code",
   "execution_count": 9,
   "id": "a4e53ae6-f2c9-4e9a-b8f0-2ac8b24cc5fb",
   "metadata": {},
   "outputs": [
    {
     "name": "stdout",
     "output_type": "stream",
     "text": [
      "stat=46.667, p=0.000\n",
      "Reject the null hypothesis and conclude that the variables are dependent.\n"
     ]
    }
   ],
   "source": [
    "from scipy.stats import chi2_contingency\n",
    "\n",
    "# Example contingency table\n",
    "table = [[100, 80, 70],[150,  20,  80]]\n",
    "\n",
    "# Calculate test statistic and p-value\n",
    "stat, p, dof, expected = chi2_contingency(table)\n",
    "\n",
    "# Interpreation\n",
    "print('stat=%.3f, p=%.3f' % (stat, p))\n",
    "if p > 0.05:\n",
    "    print('Do not reject the null hypothesis and conclude the variables are independent.')\n",
    "else:\n",
    "    print('Reject the null hypothesis and conclude that the variables are dependent.')"
   ]
  },
  {
   "cell_type": "markdown",
   "id": "60638cbd-5833-4ded-9b7b-110cd451ad1a",
   "metadata": {},
   "source": [
    "### Fisher's exact test\n",
    "The Chi-squared test is used to test the independence of two categorical variables in a contingency table. Fisher's exact test is used instead of a Chi-squared test when the sample sizes are small. \n",
    "\n",
    "**Assumptions**\n",
    "* Observations in the sample are independent\n",
    "\n",
    "**Hypotheses**\n",
    "* H0: the variables are independent\n",
    "* H1: the variables are not independent\n",
    "\n",
    "**Resources**\n",
    "* [Fisher's test, Wikipedia](https://en.wikipedia.org/wiki/Fisher%27s_exact_test)\n",
    "* [scipy.stats.fisher_exact](https://docs.scipy.org/doc/scipy/reference/generated/scipy.stats.fisher_exact.html)"
   ]
  },
  {
   "cell_type": "code",
   "execution_count": 10,
   "id": "5391217f-6b1c-43eb-a55a-acbc6a200dc2",
   "metadata": {},
   "outputs": [
    {
     "name": "stdout",
     "output_type": "stream",
     "text": [
      "stat=0.167, p=0.000\n",
      "Reject the null hypothesis and conclude that the variables are dependent.\n"
     ]
    }
   ],
   "source": [
    "from scipy.stats import fisher_exact\n",
    "\n",
    "# Example contingency table\n",
    "table = [[100, 80],[150,  20]]\n",
    "\n",
    "# Calculate test statistic and p-value\n",
    "stat, p = fisher_exact(table)\n",
    "\n",
    "# Interpreation\n",
    "print('stat=%.3f, p=%.3f' % (stat, p))\n",
    "if p > 0.05:\n",
    "    print('Do not reject the null hypothesis and conclude the variables are independent.')\n",
    "else:\n",
    "    print('Reject the null hypothesis and conclude that the variables are dependent.')"
   ]
  },
  {
   "cell_type": "markdown",
   "id": "e5c50a77-2d7e-4416-aefc-e0b9587289bc",
   "metadata": {},
   "source": [
    "### Poisson E-test\n",
    "The Poisson exact test (E-test) is used to test whether there is a significant difference between two Poisson rates. \n",
    "\n",
    "**Assumptions**\n",
    "* Observations in the sample are independent\n",
    "\n",
    "**Hypotheses**\n",
    "* H0: the Poisson rates are the same\n",
    "* H1: the Poisson rates are not the same\n",
    "\n",
    "**Resources**\n",
    "* [Gu, Ng, Tang, Schucany 2008: Testing the Ratio of Two Poisson Rates, Biometrical Journal 50 (2008) 2, 2008](https://onlinelibrary.wiley.com/doi/10.1002/bimj.200710403)\n",
    "* [statsmodels.stats.rates.test_poisson_2indep](https://www.statsmodels.org/dev/generated/statsmodels.stats.rates.test_poisson_2indep.html)"
   ]
  },
  {
   "cell_type": "code",
   "execution_count": 11,
   "id": "326da80d-c728-444d-b342-3330f26629dd",
   "metadata": {},
   "outputs": [
    {
     "name": "stdout",
     "output_type": "stream",
     "text": [
      "stat=3.385, p=0.001\n",
      "Reject the null hypothesis and conclude that the Poisson rates are not the same.\n"
     ]
    }
   ],
   "source": [
    "from statsmodels.stats.rates import test_poisson_2indep\n",
    "\n",
    "# Example inputs taken from Gu, Ng, Tang, Schucany 2008: Testing the Ratio of Two Poisson Rates\n",
    "count1 = 60\n",
    "exposure1 = 51477.5\n",
    "count2 = 30\n",
    "exposure2 = 54308.7\n",
    "\n",
    "# Calculate test statistic and p-value\n",
    "stat, p = test_poisson_2indep(count1, exposure1, count2, exposure2, method='etest-wald')\n",
    "\n",
    "# Interpreation\n",
    "print('stat=%.3f, p=%.3f' % (stat, p))\n",
    "if p > 0.05:\n",
    "    print('Do not reject the null hypothesis and conclude the Poisson rates are the same.')\n",
    "else:\n",
    "    print('Reject the null hypothesis and conclude that the Poisson rates are not the same.')"
   ]
  },
  {
   "cell_type": "markdown",
   "id": "7e5dc131-d33f-45e1-acf6-c6bc9c3e2fa3",
   "metadata": {},
   "source": [
    "## Conclusion\n",
    "This article reviewed the hypothesis tests you will most likely use when analysing your A/B experiments. We covered what situations the tests are most suitable for, what assumptions need to be met, how to interpret the results, and provided the code and resources you will need to implement the tests.\n",
    "\n",
    "Thank you to [Machine Learning Mastery](https://machinelearningmastery.com/statistical-hypothesis-tests-in-python-cheat-sheet/) for providing the inspiration for this article. \n",
    "\n",
    "Have I missed anything? Let me know, and I will update the list.\n",
    "\n",
    "Liked what you read? Follow me on [Medium](https://medium.com/@rtkilian). Otherwise, [tweet me](https://twitter.com/rtkilian) or add me on [LinkedIn](https://www.linkedin.com/in/rtkilian/)."
   ]
  }
 ],
 "metadata": {
  "kernelspec": {
   "display_name": "default:Python",
   "language": "python",
   "name": "conda-env-default-py"
  },
  "language_info": {
   "codemirror_mode": {
    "name": "ipython",
    "version": 3
   },
   "file_extension": ".py",
   "mimetype": "text/x-python",
   "name": "python",
   "nbconvert_exporter": "python",
   "pygments_lexer": "ipython3",
   "version": "3.9.10"
  }
 },
 "nbformat": 4,
 "nbformat_minor": 5
}
